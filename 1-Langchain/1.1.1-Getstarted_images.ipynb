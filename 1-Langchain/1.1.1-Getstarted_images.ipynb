{
 "cells": [
  {
   "cell_type": "code",
   "execution_count": 1,
   "metadata": {},
   "outputs": [
    {
     "data": {
      "text/plain": [
       "True"
      ]
     },
     "execution_count": 1,
     "metadata": {},
     "output_type": "execute_result"
    }
   ],
   "source": [
    "import os\n",
    "from dotenv import load_dotenv\n",
    "load_dotenv()\n"
   ]
  },
  {
   "cell_type": "code",
   "execution_count": 2,
   "metadata": {},
   "outputs": [],
   "source": [
    "os.environ['OPENAI_API_KEY']=os.getenv(\"OPENAI_API_KEY\")\n",
    "## Langsmith Tracking\n",
    "os.environ[\"LANGCHAIN_API_KEY\"]=os.getenv(\"LANGCHAIN_API_KEY\")\n",
    "os.environ[\"LANGCHAIN_TRACING_V2\"]=\"true\"\n",
    "os.environ[\"LANGCHAIN_PROJECT\"]=os.getenv(\"LANGCHAIN_PROJECT\")"
   ]
  },
  {
   "cell_type": "code",
   "execution_count": 3,
   "metadata": {},
   "outputs": [
    {
     "name": "stdout",
     "output_type": "stream",
     "text": [
      "client=<openai.resources.chat.completions.Completions object at 0x10fc35160> async_client=<openai.resources.chat.completions.AsyncCompletions object at 0x10fc36e40> root_client=<openai.OpenAI object at 0x10f2d58e0> root_async_client=<openai.AsyncOpenAI object at 0x10fc351c0> model_name='o1-mini' temperature=1.0 model_kwargs={} openai_api_key=SecretStr('**********')\n"
     ]
    }
   ],
   "source": [
    "from langchain_openai import ChatOpenAI\n",
    "llm=ChatOpenAI(model=\"o1-mini\")\n",
    "print(llm)"
   ]
  },
  {
   "cell_type": "code",
   "execution_count": 4,
   "metadata": {},
   "outputs": [],
   "source": [
    "#from langchain_unstructured import UnstructuredLoader\n",
    "from langchain_community.document_loaders import UnstructuredImageLoader\n"
   ]
  },
  {
   "cell_type": "code",
   "execution_count": 5,
   "metadata": {},
   "outputs": [],
   "source": [
    "loader = UnstructuredImageLoader(\"/Users/jamadagnikotamsetty/MyCode/AgenticAIWorkspace/Photos/IMG_1874.PNG\")\n",
    "#path= /Users/jamadagnikotamsetty/MyCode/AgenticAIWorkspace/Photos\n"
   ]
  },
  {
   "cell_type": "code",
   "execution_count": 6,
   "metadata": {},
   "outputs": [
    {
     "name": "stderr",
     "output_type": "stream",
     "text": [
      "/Users/jamadagnikotamsetty/MyCode/AgenticAIWorkspace/agentenv/lib/python3.12/site-packages/tqdm/auto.py:21: TqdmWarning: IProgress not found. Please update jupyter and ipywidgets. See https://ipywidgets.readthedocs.io/en/stable/user_install.html\n",
      "  from .autonotebook import tqdm as notebook_tqdm\n"
     ]
    },
    {
     "name": "stdout",
     "output_type": "stream",
     "text": [
      "[Document(metadata={'source': '/Users/jamadagnikotamsetty/MyCode/AgenticAIWorkspace/Photos/IMG_1874.PNG'}, page_content='10:19\\n\\nol €\\n\\n€ AllHealth Data\\n\\nSteps\\n\\nAdd Data\\n\\nD\\n\\nWwW\\n\\nM\\n\\n6M\\n\\nY\\n\\nTOTAL 12, 301 steps 7 Feb 2025\\n\\nTrend Unavailable\\n\\nTrends\\n\\n® Steps\\n\\nYou averaged more steps over the past\\n\\nSo\\n\\n\\n\\n\\n\\nSummary')]\n"
     ]
    }
   ],
   "source": [
    "data = loader.load()\n",
    "print(data)"
   ]
  }
 ],
 "metadata": {
  "kernelspec": {
   "display_name": "Python 3",
   "language": "python",
   "name": "python3"
  },
  "language_info": {
   "codemirror_mode": {
    "name": "ipython",
    "version": 3
   },
   "file_extension": ".py",
   "mimetype": "text/x-python",
   "name": "python",
   "nbconvert_exporter": "python",
   "pygments_lexer": "ipython3",
   "version": "3.12.0"
  }
 },
 "nbformat": 4,
 "nbformat_minor": 2
}
